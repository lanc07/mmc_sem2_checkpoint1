{
  "nbformat": 4,
  "nbformat_minor": 0,
  "metadata": {
    "colab": {
      "provenance": [],
      "authorship_tag": "ABX9TyNeNOFEk7hTTJYPaUGAujsb",
      "include_colab_link": true
    },
    "kernelspec": {
      "name": "python3",
      "display_name": "Python 3"
    },
    "language_info": {
      "name": "python"
    }
  },
  "cells": [
    {
      "cell_type": "markdown",
      "metadata": {
        "id": "view-in-github",
        "colab_type": "text"
      },
      "source": [
        "<a href=\"https://colab.research.google.com/github/lanc07/mmc_sem2_checkpoint1/blob/main/mmc_2semestre_cp1.ipynb\" target=\"_parent\"><img src=\"https://colab.research.google.com/assets/colab-badge.svg\" alt=\"Open In Colab\"/></a>"
      ]
    },
    {
      "cell_type": "markdown",
      "source": [
        "# **Checkpoint - modulagem mátematica computacional**"
      ],
      "metadata": {
        "id": "HimN8HJzE9bH"
      }
    },
    {
      "cell_type": "markdown",
      "source": [
        "#**Integrantes**\n",
        "# - Allan de Souza Cardoso  RM: 561721\n",
        "# - Eduardo Barcelar Rudner  RM: 564925\n",
        "# - Raquel Amaral de Oliveira RM: 566491"
      ],
      "metadata": {
        "id": "9AjoYuPgGgtt"
      }
    },
    {
      "cell_type": "code",
      "execution_count": null,
      "metadata": {
        "id": "1GcDXi2S8_4x"
      },
      "outputs": [],
      "source": [
        "import numpy as np\n",
        "from sympy import symbols"
      ]
    },
    {
      "cell_type": "code",
      "source": [
        "a = 3\n",
        "b = 5\n",
        "c = 2\n",
        "d = 4\n",
        "\n",
        "n = 8"
      ],
      "metadata": {
        "id": "Graid5PuBLxc"
      },
      "execution_count": null,
      "outputs": []
    },
    {
      "cell_type": "markdown",
      "source": [
        "# **operações aritiméticas**"
      ],
      "metadata": {
        "id": "wir5wf_wH5Gi"
      }
    },
    {
      "cell_type": "code",
      "source": [
        "lado_esquerdo = (a / b) + (c / d)\n",
        "print(lado_esquerdo)"
      ],
      "metadata": {
        "colab": {
          "base_uri": "https://localhost:8080/"
        },
        "id": "bFS6z6ZHCEnt",
        "outputId": "733833c9-0ece-4e86-9f1c-8c971d85e959"
      },
      "execution_count": null,
      "outputs": [
        {
          "output_type": "stream",
          "name": "stdout",
          "text": [
            "1.1\n"
          ]
        }
      ]
    },
    {
      "cell_type": "code",
      "source": [
        "lado_direito = ((a * d) + (b * c)) / (b * d)\n",
        "print(lado_direito)"
      ],
      "metadata": {
        "colab": {
          "base_uri": "https://localhost:8080/"
        },
        "id": "TkwsqxfFDy7b",
        "outputId": "69a7dcd1-2205-4be8-d9af-b3f545296503"
      },
      "execution_count": null,
      "outputs": [
        {
          "output_type": "stream",
          "name": "stdout",
          "text": [
            "1.1\n"
          ]
        }
      ]
    },
    {
      "cell_type": "code",
      "source": [
        "if (lado_esquerdo - lado_direito) == 0:\n",
        "  print('É verdadeira!')"
      ],
      "metadata": {
        "colab": {
          "base_uri": "https://localhost:8080/"
        },
        "id": "Vw24e0_-F2tK",
        "outputId": "85dc9e4f-ecf7-4d3a-ff02-fd2c406c33fe"
      },
      "execution_count": null,
      "outputs": [
        {
          "output_type": "stream",
          "name": "stdout",
          "text": [
            "É verdadeira!\n"
          ]
        }
      ]
    },
    {
      "cell_type": "markdown",
      "source": [
        "# **propriedades dos expoentes**"
      ],
      "metadata": {
        "id": "u4An2cWRIYKR"
      }
    },
    {
      "cell_type": "code",
      "source": [
        "lado_esquerdo = (a * b) ** n\n",
        "print(lado_esquerdo)"
      ],
      "metadata": {
        "colab": {
          "base_uri": "https://localhost:8080/"
        },
        "id": "V3udzpjtId9j",
        "outputId": "e233e7f6-1e4f-41ad-fc01-10200ce0ecde"
      },
      "execution_count": null,
      "outputs": [
        {
          "output_type": "stream",
          "name": "stdout",
          "text": [
            "2562890625\n"
          ]
        }
      ]
    },
    {
      "cell_type": "code",
      "source": [
        "lado_direito = (a ** n) * (b ** n)\n",
        "print(lado_direito)"
      ],
      "metadata": {
        "colab": {
          "base_uri": "https://localhost:8080/"
        },
        "id": "B3oX5segI9JR",
        "outputId": "8d372e4a-0c7b-407c-fc23-decc3fb90e02"
      },
      "execution_count": null,
      "outputs": [
        {
          "output_type": "stream",
          "name": "stdout",
          "text": [
            "2562890625\n"
          ]
        }
      ]
    },
    {
      "cell_type": "code",
      "source": [
        "if (lado_esquerdo - lado_direito) == 0:\n",
        "  print('É verdadeira!')"
      ],
      "metadata": {
        "colab": {
          "base_uri": "https://localhost:8080/"
        },
        "id": "VJ02KUgHJpNd",
        "outputId": "228f0820-5698-43c2-8893-803f3506e0db"
      },
      "execution_count": null,
      "outputs": [
        {
          "output_type": "stream",
          "name": "stdout",
          "text": [
            "É verdadeira!\n"
          ]
        }
      ]
    },
    {
      "cell_type": "markdown",
      "source": [
        "# **propriedades dos radicais**"
      ],
      "metadata": {
        "id": "FztCdSLlKBfe"
      }
    },
    {
      "cell_type": "code",
      "source": [
        "lado_esquerdo = np.sqrt(a * b)"
      ],
      "metadata": {
        "id": "gvAvwuMsKI-9"
      },
      "execution_count": null,
      "outputs": []
    },
    {
      "cell_type": "code",
      "source": [
        "lado_direito = np.sqrt(a) * np.sqrt(b)"
      ],
      "metadata": {
        "id": "hDGuYfO6LoLK"
      },
      "execution_count": null,
      "outputs": []
    },
    {
      "cell_type": "code",
      "source": [
        "if lado_esquerdo == lado_direito:\n",
        "  print('É verdadeira!')"
      ],
      "metadata": {
        "colab": {
          "base_uri": "https://localhost:8080/"
        },
        "id": "5qDqWIRdL5Hy",
        "outputId": "f09d6211-66d6-402e-b6aa-7c2bb2223a88"
      },
      "execution_count": null,
      "outputs": [
        {
          "output_type": "stream",
          "name": "stdout",
          "text": [
            "É verdadeira!\n"
          ]
        }
      ]
    },
    {
      "cell_type": "markdown",
      "source": [
        "# **propriedades das desigualdades matematicas**"
      ],
      "metadata": {
        "id": "qvp7dgTRNx7u"
      }
    },
    {
      "cell_type": "code",
      "source": [
        "if a < b and a + c < b + c and a - c < b - c:\n",
        "  print('É verdadeira!')"
      ],
      "metadata": {
        "colab": {
          "base_uri": "https://localhost:8080/"
        },
        "id": "D1VGLvvpOMUi",
        "outputId": "ed16d1f2-21ed-4d23-9ca8-730e307d1e7a"
      },
      "execution_count": null,
      "outputs": [
        {
          "output_type": "stream",
          "name": "stdout",
          "text": [
            "É verdadeira!\n"
          ]
        }
      ]
    },
    {
      "cell_type": "markdown",
      "source": [
        "# **propriedades dos logaritmos**"
      ],
      "metadata": {
        "id": "Wl1lMMk6UOCn"
      }
    },
    {
      "cell_type": "code",
      "source": [
        "lado_esquerdo = np.log(c ** a)\n",
        "print(lado_esquerdo)"
      ],
      "metadata": {
        "id": "DS4SLEtnVDa9",
        "colab": {
          "base_uri": "https://localhost:8080/"
        },
        "outputId": "68c879a9-c501-4924-bb41-8efe3fb15260"
      },
      "execution_count": null,
      "outputs": [
        {
          "output_type": "stream",
          "name": "stdout",
          "text": [
            "2.0794415416798357\n"
          ]
        }
      ]
    },
    {
      "cell_type": "code",
      "source": [
        "lado_direito = a * np.log(c)\n",
        "print(lado_direito)"
      ],
      "metadata": {
        "colab": {
          "base_uri": "https://localhost:8080/"
        },
        "id": "vcYpo1oh2yLq",
        "outputId": "f1da7c36-046e-409a-ac36-e57e95fdbaf6"
      },
      "execution_count": null,
      "outputs": [
        {
          "output_type": "stream",
          "name": "stdout",
          "text": [
            "2.0794415416798357\n"
          ]
        }
      ]
    },
    {
      "cell_type": "code",
      "source": [
        "if lado_esquerdo == lado_direito:\n",
        "  print('É verdadeira!')"
      ],
      "metadata": {
        "colab": {
          "base_uri": "https://localhost:8080/"
        },
        "id": "OZ67OqLK33sF",
        "outputId": "fa4be2b9-d1d5-4438-e9e4-bff853216451"
      },
      "execution_count": null,
      "outputs": [
        {
          "output_type": "stream",
          "name": "stdout",
          "text": [
            "É verdadeira!\n"
          ]
        }
      ]
    },
    {
      "cell_type": "markdown",
      "source": [
        "#**erros algébricos**"
      ],
      "metadata": {
        "id": "oXqZ3TQQ6SRq"
      }
    },
    {
      "cell_type": "markdown",
      "source": [
        "1)"
      ],
      "metadata": {
        "id": "6M7vuLAqMz7a"
      }
    },
    {
      "cell_type": "code",
      "source": [
        "x = symbols('x')\n",
        "y = symbols('y')"
      ],
      "metadata": {
        "id": "X4itf-lpFHnm"
      },
      "execution_count": null,
      "outputs": []
    },
    {
      "cell_type": "code",
      "source": [
        "exp_alg = (x**5)**3\n",
        "print(exp_alg)"
      ],
      "metadata": {
        "colab": {
          "base_uri": "https://localhost:8080/"
        },
        "id": "WuaooZXn342K",
        "outputId": "61149e03-af7a-4cb2-e72f-bbef0e62d5d0"
      },
      "execution_count": null,
      "outputs": [
        {
          "output_type": "stream",
          "name": "stdout",
          "text": [
            "x**15\n"
          ]
        }
      ]
    },
    {
      "cell_type": "code",
      "source": [
        "resp_err = x**(5 + 3)\n",
        "print(resp_err)"
      ],
      "metadata": {
        "colab": {
          "base_uri": "https://localhost:8080/"
        },
        "id": "JmqrFacC8mHt",
        "outputId": "43f0bc6b-49ec-4529-d4a9-7136c17348a8"
      },
      "execution_count": null,
      "outputs": [
        {
          "output_type": "stream",
          "name": "stdout",
          "text": [
            "x**8\n"
          ]
        }
      ]
    },
    {
      "cell_type": "code",
      "source": [
        "resp_corr = x**(5*3)\n",
        "print(resp_corr)"
      ],
      "metadata": {
        "colab": {
          "base_uri": "https://localhost:8080/"
        },
        "id": "hhvewcds_bPK",
        "outputId": "9872fb4a-ef94-4239-eb53-a3045d455406"
      },
      "execution_count": null,
      "outputs": [
        {
          "output_type": "stream",
          "name": "stdout",
          "text": [
            "x**15\n"
          ]
        }
      ]
    },
    {
      "cell_type": "code",
      "source": [
        "if exp_alg == resp_corr:\n",
        "  print('Resposta correta! - EXPLICAÇÃO:  Quando há potência de uma potência, multiplica os expoentes')\n",
        "else:\n",
        "  print('Está errado!')"
      ],
      "metadata": {
        "colab": {
          "base_uri": "https://localhost:8080/"
        },
        "id": "cI1XQrK5G_k3",
        "outputId": "9c634fe3-fcd4-4d18-aa50-7c0b39764798"
      },
      "execution_count": null,
      "outputs": [
        {
          "output_type": "stream",
          "name": "stdout",
          "text": [
            "Resposta correta! - EXPLICAÇÃO:  Quando há potência de uma potência, multiplica os expoentes\n"
          ]
        }
      ]
    },
    {
      "cell_type": "markdown",
      "source": [
        "2)"
      ],
      "metadata": {
        "id": "I4m-ZFYoM5EY"
      }
    },
    {
      "cell_type": "code",
      "source": [
        "exp_alg = (x + y)**2\n",
        "print(exp_alg)"
      ],
      "metadata": {
        "colab": {
          "base_uri": "https://localhost:8080/"
        },
        "id": "oK83Ff-XM8Wv",
        "outputId": "b210baad-67f8-40b0-823c-9148c5570101"
      },
      "execution_count": null,
      "outputs": [
        {
          "output_type": "stream",
          "name": "stdout",
          "text": [
            "(x + y)**2\n"
          ]
        }
      ]
    },
    {
      "cell_type": "code",
      "source": [
        "resp_err = x**2 + y**2\n",
        "print(resp_err)"
      ],
      "metadata": {
        "colab": {
          "base_uri": "https://localhost:8080/"
        },
        "id": "3SEY97D_Nq_h",
        "outputId": "ef27983d-5189-4e22-f243-8bebd01181b4"
      },
      "execution_count": null,
      "outputs": [
        {
          "output_type": "stream",
          "name": "stdout",
          "text": [
            "x**2 + y**2\n"
          ]
        }
      ]
    },
    {
      "cell_type": "code",
      "source": [
        "resp_corr = exp_alg = x**2 + 2*x*y + y**2\n",
        "print(resp_corr)"
      ],
      "metadata": {
        "id": "AihKGYaqO4ti",
        "colab": {
          "base_uri": "https://localhost:8080/"
        },
        "outputId": "1a72e680-bcca-4c14-c490-90328705f401"
      },
      "execution_count": null,
      "outputs": [
        {
          "output_type": "stream",
          "name": "stdout",
          "text": [
            "x**2 + 2*x*y + y**2\n"
          ]
        }
      ]
    },
    {
      "cell_type": "code",
      "source": [
        "if (exp_alg - resp_corr) == 0:\n",
        "  print(\"Resposta correta - Explicação: Aplica-se distributiva quando há o quadrado da soma \")\n",
        "else:\n",
        "  print('Está errado')"
      ],
      "metadata": {
        "colab": {
          "base_uri": "https://localhost:8080/"
        },
        "id": "0pXeO3OEwC1e",
        "outputId": "5c1c7cdd-b477-4dd9-c629-e2e1a090a871"
      },
      "execution_count": null,
      "outputs": [
        {
          "output_type": "stream",
          "name": "stdout",
          "text": [
            "Resposta correta - Explicação: Aplica-se distributiva quando há o quadrado da soma \n"
          ]
        }
      ]
    },
    {
      "cell_type": "markdown",
      "source": [
        "3)"
      ],
      "metadata": {
        "id": "OwJqeSHHPKBa"
      }
    },
    {
      "cell_type": "code",
      "source": [
        "exp_err = -x **y\n",
        "print(exp_err)"
      ],
      "metadata": {
        "colab": {
          "base_uri": "https://localhost:8080/"
        },
        "id": "Ii1lONpuPL52",
        "outputId": "eaada0ea-a839-4497-978a-a0f3f9241257"
      },
      "execution_count": null,
      "outputs": [
        {
          "output_type": "stream",
          "name": "stdout",
          "text": [
            "-x**y\n"
          ]
        }
      ]
    },
    {
      "cell_type": "code",
      "source": [
        "resp_err = exp_err = x**y\n",
        "print(resp_err)"
      ],
      "metadata": {
        "colab": {
          "base_uri": "https://localhost:8080/"
        },
        "id": "bpo13j-uPwzc",
        "outputId": "377873ba-d2de-465a-867d-bbbbdb32e925"
      },
      "execution_count": null,
      "outputs": [
        {
          "output_type": "stream",
          "name": "stdout",
          "text": [
            "x**y\n"
          ]
        }
      ]
    },
    {
      "cell_type": "code",
      "source": [
        "exp_corr = (- x)**y\n",
        "print(exp_corr)"
      ],
      "metadata": {
        "colab": {
          "base_uri": "https://localhost:8080/"
        },
        "id": "WWfgEGciRMPw",
        "outputId": "11ace84a-996e-4c36-e62c-694fdc8d1a44"
      },
      "execution_count": null,
      "outputs": [
        {
          "output_type": "stream",
          "name": "stdout",
          "text": [
            "(-x)**y\n"
          ]
        }
      ]
    },
    {
      "cell_type": "code",
      "source": [
        "\n",
        "if exp_err == resp_err:\n",
        "    print(\"Está errado - Explicação: Quando a expressão negativa não possui parenteses, apenas o número é elevado ao quadrado, o sinal permanece o mesmo. O correto é colocá-los entre parenteses para que no final o sinal seja atríbuido a base junto com o número. \")\n",
        "else:\n",
        "    print(\"está correto\")\n"
      ],
      "metadata": {
        "colab": {
          "base_uri": "https://localhost:8080/"
        },
        "id": "BTBZiVphsEIW",
        "outputId": "0d600311-b71c-4330-ea24-8980bb588fd5"
      },
      "execution_count": null,
      "outputs": [
        {
          "output_type": "stream",
          "name": "stdout",
          "text": [
            "Está errado - Explicação: Quando a expressão negativa não possui parenteses, apenas o número é elevado ao quadrado, o sinal permanece o mesmo. O correto é colocá-los entre parenteses para que no final o sinal seja atríbuido a base junto com o número \n"
          ]
        }
      ]
    }
  ]
}
