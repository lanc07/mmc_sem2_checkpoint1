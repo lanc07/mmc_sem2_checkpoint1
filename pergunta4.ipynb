{
  "nbformat": 4,
  "nbformat_minor": 0,
  "metadata": {
    "colab": {
      "provenance": []
    },
    "kernelspec": {
      "name": "python3",
      "display_name": "Python 3"
    },
    "language_info": {
      "name": "python"
    }
  },
  "cells": [
    {
      "cell_type": "markdown",
      "source": [
        "#Prompt 1\n",
        "Exercício 2 -> Sobre o conteúdo do PFD (que está logo abaixo), escolha 3 erros algébricos comuns (Common Algebric Error) e verificá-los utilizando o Python."
      ],
      "metadata": {
        "id": "ruO6zHEwczFB"
      }
    },
    {
      "cell_type": "markdown",
      "source": [
        "#Resposta\n",
        "Esse exercício é exatamente para mostrar, com exemplos em Python, que certos “atalhos” algébricos que parecem certos na verdade dão errado.\n",
        "Você deve escolher 3 erros comuns da lista e comprová-los com contas em Python.\n",
        "\n",
        "Vou montar para você três exemplos bem clássicos:\n",
        "\n",
        "🔹 Erro 1: Esquecer de distribuir o sinal negativo\n",
        "\n",
        "Regra errada:\n",
        "\n",
        "−\n",
        "𝑎\n",
        "(\n",
        "𝑥\n",
        "−\n",
        "1\n",
        ")\n",
        "≠\n",
        "−\n",
        "𝑎\n",
        "𝑥\n",
        "−\n",
        "𝑎\n",
        "−a(x−1)\n",
        "\n",
        "=−ax−a\n",
        "\n",
        "Correto:\n",
        "\n",
        "−\n",
        "𝑎\n",
        "(\n",
        "𝑥\n",
        "−\n",
        "1\n",
        ")\n",
        "=\n",
        "−\n",
        "𝑎\n",
        "𝑥\n",
        "+\n",
        "𝑎\n",
        "−a(x−1)=−ax+a"
      ],
      "metadata": {
        "id": "ggntMhqRdgP3"
      }
    },
    {
      "cell_type": "code",
      "source": [
        "#Exemplo em python\n",
        "\n",
        "from sympy import symbols, expand"
      ],
      "metadata": {
        "id": "k_WY6QIFeYTE"
      },
      "execution_count": 21,
      "outputs": []
    },
    {
      "cell_type": "code",
      "source": [
        "a, x = symbols('a x')\n",
        "\n",
        "errado = -a*x - a\n",
        "correto = expand(-a*(x - 1))"
      ],
      "metadata": {
        "id": "KMyEghzhp3aa"
      },
      "execution_count": 22,
      "outputs": []
    },
    {
      "cell_type": "code",
      "source": [
        "print(\"Forma errada:\", errado)\n",
        "print(\"Forma correta:\", correto)\n",
        "print(\"São iguais?\", errado.equals(correto))"
      ],
      "metadata": {
        "colab": {
          "base_uri": "https://localhost:8080/"
        },
        "id": "XwWF5DDJp62O",
        "outputId": "04bfd2e1-2fda-4bb7-ea4a-a16623f48739"
      },
      "execution_count": 23,
      "outputs": [
        {
          "output_type": "stream",
          "name": "stdout",
          "text": [
            "Forma errada: -a*x - a\n",
            "Forma correta: -a*x + a\n",
            "São iguais? False\n"
          ]
        }
      ]
    },
    {
      "cell_type": "markdown",
      "source": [
        "🔹 Erro 2: Quadrado da soma não é soma dos quadrados\n",
        "\n",
        "Regra errada:\n",
        "\n",
        "(\n",
        "𝑥\n",
        "+\n",
        "𝑎\n",
        ")\n",
        "2\n",
        "≠\n",
        "𝑥\n",
        "2\n",
        "+\n",
        "𝑎\n",
        "2\n",
        "(x+a)\n",
        "2\n",
        "\n",
        "=x\n",
        "2\n",
        "+a\n",
        "2\n",
        "\n",
        "Correto:\n",
        "\n",
        "(\n",
        "𝑥\n",
        "+\n",
        "𝑎\n",
        ")\n",
        "2\n",
        "=\n",
        "𝑥\n",
        "2\n",
        "+\n",
        "2\n",
        "𝑎\n",
        "𝑥\n",
        "+\n",
        "𝑎\n",
        "2\n",
        "(x+a)\n",
        "2\n",
        "=x\n",
        "2\n",
        "+2ax+a\n",
        "2"
      ],
      "metadata": {
        "id": "7xe5A-QNet1b"
      }
    },
    {
      "cell_type": "code",
      "source": [
        "#Exemplo em python\n",
        "\n",
        "errado = x**2 + a**2\n",
        "correto = expand((x + a)**2)"
      ],
      "metadata": {
        "id": "LP7wyVsre148"
      },
      "execution_count": 24,
      "outputs": []
    },
    {
      "cell_type": "code",
      "source": [
        "print(\"Forma errada:\", errado)\n",
        "print(\"Forma correta:\", correto)\n",
        "print(\"São iguais?\", errado.equals(correto))"
      ],
      "metadata": {
        "colab": {
          "base_uri": "https://localhost:8080/"
        },
        "id": "jWmWl8oDqC2d",
        "outputId": "b2b45b14-4679-46b3-a2a9-362b665ebee8"
      },
      "execution_count": 25,
      "outputs": [
        {
          "output_type": "stream",
          "name": "stdout",
          "text": [
            "Forma errada: a**2 + x**2\n",
            "Forma correta: a**2 + 2*a*x + x**2\n",
            "São iguais? False\n"
          ]
        }
      ]
    },
    {
      "cell_type": "markdown",
      "source": [
        "🔹 Erro 3: Cuidado com os parênteses no expoente negativo\n",
        "\n",
        "Do PDF:\n",
        "\n",
        "(\n",
        "−\n",
        "3\n",
        ")\n",
        "2\n",
        "≠\n",
        "−\n",
        "3\n",
        "2\n",
        "(−3)\n",
        "2\n",
        "\n",
        "=−3\n",
        "2\n",
        "\n",
        "Correto:\n",
        "\n",
        "(\n",
        "−\n",
        "3\n",
        ")\n",
        "2\n",
        "=\n",
        "9\n",
        "(−3)\n",
        "2\n",
        "=9\n",
        "\n",
        "Errado:\n",
        "\n",
        "−\n",
        "3\n",
        "2\n",
        "=\n",
        "−\n",
        "9\n",
        "−3\n",
        "2\n",
        "=−9"
      ],
      "metadata": {
        "id": "vYIgwOXFe8KQ"
      }
    },
    {
      "cell_type": "code",
      "source": [
        "# Erro comum: esquecer dos parênteses no expoente\n",
        "# Errado: o - não está dentro do quadrado\n",
        "errado = -3**2\n",
        "\n",
        "# Correto: com parênteses, o número inteiro -3 é elevado ao quadrado\n",
        "correto = (-3)**2"
      ],
      "metadata": {
        "id": "4pjMtieVhtOB"
      },
      "execution_count": 6,
      "outputs": []
    },
    {
      "cell_type": "code",
      "source": [
        "print(\"Forma errada  (-3^2):\", errado)\n",
        "print(\"Forma correta ((-3)^2):\", correto)\n",
        "print(\"São iguais?\", errado == correto)"
      ],
      "metadata": {
        "colab": {
          "base_uri": "https://localhost:8080/"
        },
        "id": "2w3bcWqCmTna",
        "outputId": "81861b23-2d34-482c-9b08-8e6a6a4c8216"
      },
      "execution_count": 4,
      "outputs": [
        {
          "output_type": "stream",
          "name": "stdout",
          "text": [
            "Forma errada  (-3^2): -9\n",
            "Forma correta ((-3)^2): 9\n",
            "São iguais? False\n"
          ]
        }
      ]
    },
    {
      "cell_type": "markdown",
      "source": [
        "#Prompt 2\n",
        "\n",
        "Exercício 3 -> Verifique as propriedades da tabela utilizando numpy (numérico). Gere vetores numéricos e verifique as igualdades do slide anderior. Definir vetores arbitrariamente. Podem ser aleatórios."
      ],
      "metadata": {
        "id": "DKxpgJrMlGI8"
      }
    },
    {
      "cell_type": "markdown",
      "source": [
        "#Resposta\n",
        "\n",
        "Esse exercício agora pede para testar numericamente, com vetores, os axiomas de espaço vetorial usando o numpy.\n",
        "\n",
        "A ideia é simples:\n",
        "\n",
        "Criamos vetores arbitrários (podem ser aleatórios ou definidos manualmente).\n",
        "\n",
        "Testamos cada axioma verificando se a igualdade proposta é verdadeira.\n",
        "\n",
        "Usamos numpy.allclose() para comparar, porque com números reais podem aparecer aproximações."
      ],
      "metadata": {
        "id": "q1KmrhWClo3p"
      }
    },
    {
      "cell_type": "code",
      "source": [
        "import numpy as np"
      ],
      "metadata": {
        "id": "2_kzJFcUl6DC"
      },
      "execution_count": 9,
      "outputs": []
    },
    {
      "cell_type": "code",
      "source": [
        "# Criando vetores arbitrários (dimensão 3, mas poderia ser qualquer)\n",
        "u = np.array([1, 2, 3])\n",
        "v = np.array([4, -1, 2])\n",
        "w = np.array([0, 5, -3])"
      ],
      "metadata": {
        "id": "1OE4DTj5mgBP"
      },
      "execution_count": 11,
      "outputs": []
    },
    {
      "cell_type": "code",
      "source": [
        "# Escalares arbitrários\n",
        "a = 2\n",
        "b = -3"
      ],
      "metadata": {
        "id": "IjE0pIKimj6h"
      },
      "execution_count": 12,
      "outputs": []
    },
    {
      "cell_type": "code",
      "source": [
        "# Associatividade da adição\n",
        "lhs = u + (v + w)\n",
        "rhs = (u + v) + w\n",
        "print(\"Associatividade da adição:\", np.allclose(lhs, rhs))"
      ],
      "metadata": {
        "colab": {
          "base_uri": "https://localhost:8080/"
        },
        "id": "_SAfKmCanCXB",
        "outputId": "6035afab-1e55-451e-8b91-d43d27c01bef"
      },
      "execution_count": 13,
      "outputs": [
        {
          "output_type": "stream",
          "name": "stdout",
          "text": [
            "Associatividade da adição: True\n"
          ]
        }
      ]
    },
    {
      "cell_type": "code",
      "source": [
        "# Comutatividade da adição\n",
        "lhs = u + v\n",
        "rhs = v + u\n",
        "print(\"Comutatividade da adição:\", np.allclose(lhs, rhs))"
      ],
      "metadata": {
        "colab": {
          "base_uri": "https://localhost:8080/"
        },
        "id": "FdLNkt-1nHWL",
        "outputId": "c75b6286-21a5-4d55-cf1c-e9b07514568a"
      },
      "execution_count": 14,
      "outputs": [
        {
          "output_type": "stream",
          "name": "stdout",
          "text": [
            "Comutatividade da adição: True\n"
          ]
        }
      ]
    },
    {
      "cell_type": "code",
      "source": [
        "# Elemento identidade da adição\n",
        "zero = np.zeros_like(u)\n",
        "lhs = v + zero\n",
        "rhs = v\n",
        "print(\"Elemento identidade da adição:\", np.allclose(lhs, rhs))"
      ],
      "metadata": {
        "colab": {
          "base_uri": "https://localhost:8080/"
        },
        "id": "ojxA6cIznNzK",
        "outputId": "f3555fff-66f0-497c-ff33-8a1252baabe2"
      },
      "execution_count": 15,
      "outputs": [
        {
          "output_type": "stream",
          "name": "stdout",
          "text": [
            "Elemento identidade da adição: True\n"
          ]
        }
      ]
    },
    {
      "cell_type": "code",
      "source": [
        "# Elemento inverso da adição\n",
        "lhs = v + (-v)\n",
        "rhs = zero\n",
        "print(\"Elemento inverso da adição:\", np.allclose(lhs, rhs))"
      ],
      "metadata": {
        "colab": {
          "base_uri": "https://localhost:8080/"
        },
        "id": "Uza8Z7ZfnVXb",
        "outputId": "938b4b7c-59b3-405e-cb3d-139ed4d6e71b"
      },
      "execution_count": 16,
      "outputs": [
        {
          "output_type": "stream",
          "name": "stdout",
          "text": [
            "Elemento inverso da adição: True\n"
          ]
        }
      ]
    },
    {
      "cell_type": "code",
      "source": [
        "# Compatibilidade da multiplicação por escalar\n",
        "lhs = a * (b * v)\n",
        "rhs = (a * b) * v\n",
        "print(\"Compatibilidade da multiplicação por escalar:\", np.allclose(lhs, rhs))"
      ],
      "metadata": {
        "colab": {
          "base_uri": "https://localhost:8080/"
        },
        "id": "IJtKph9xnb9s",
        "outputId": "6c18a04b-975e-47c9-b09d-43d58a3200bb"
      },
      "execution_count": 17,
      "outputs": [
        {
          "output_type": "stream",
          "name": "stdout",
          "text": [
            "Compatibilidade da multiplicação por escalar: True\n"
          ]
        }
      ]
    },
    {
      "cell_type": "code",
      "source": [
        "# Elemento identidade da multiplicação por escalar\n",
        "lhs = 1 * v\n",
        "rhs = v\n",
        "print(\"Identidade da multiplicação por escalar:\", np.allclose(lhs, rhs))"
      ],
      "metadata": {
        "colab": {
          "base_uri": "https://localhost:8080/"
        },
        "id": "NaOidTrjnc-D",
        "outputId": "76645229-8e20-453d-a19c-4b0ea4878e0a"
      },
      "execution_count": 18,
      "outputs": [
        {
          "output_type": "stream",
          "name": "stdout",
          "text": [
            "Identidade da multiplicação por escalar: True\n"
          ]
        }
      ]
    },
    {
      "cell_type": "code",
      "source": [
        "# Distributividade em relação à adição de vetores\n",
        "lhs = a * (u + v)\n",
        "rhs = a * u + a * v\n",
        "print(\"Distributividade escalar sobre adição de vetores:\", np.allclose(lhs, rhs))"
      ],
      "metadata": {
        "colab": {
          "base_uri": "https://localhost:8080/"
        },
        "id": "-IXJLrCGnjEl",
        "outputId": "c79da586-388c-415e-a136-6df39e2dbb6e"
      },
      "execution_count": 19,
      "outputs": [
        {
          "output_type": "stream",
          "name": "stdout",
          "text": [
            "Distributividade escalar sobre adição de vetores: True\n"
          ]
        }
      ]
    },
    {
      "cell_type": "code",
      "source": [
        "# Distributividade em relação à adição do corpo (escalar)\n",
        "lhs = (a + b) * v\n",
        "rhs = a * v + b * v\n",
        "print(\"Distributividade escalar sobre adição do corpo:\", np.allclose(lhs, rhs))"
      ],
      "metadata": {
        "colab": {
          "base_uri": "https://localhost:8080/"
        },
        "id": "IZFRmV0znsHE",
        "outputId": "06036864-1923-40e2-a962-5db7790c71e2"
      },
      "execution_count": 20,
      "outputs": [
        {
          "output_type": "stream",
          "name": "stdout",
          "text": [
            "Distributividade escalar sobre adição do corpo: True\n"
          ]
        }
      ]
    }
  ]
}